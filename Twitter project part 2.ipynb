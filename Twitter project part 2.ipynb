{
 "cells": [
  {
   "cell_type": "markdown",
   "id": "4400d69b",
   "metadata": {},
   "source": [
    "# Classifying Tweets"
   ]
  },
  {
   "cell_type": "markdown",
   "id": "66370c11",
   "metadata": {},
   "source": [
    "### In this project, I will use Naive-Bayes Classifier to find patterns in real tweets.  We have 3 datasets here, These three files contain tweets that we gathered from those locations."
   ]
  },
  {
   "cell_type": "markdown",
   "id": "732cb17d",
   "metadata": {},
   "source": [
    "### Importing required Libraries"
   ]
  },
  {
   "cell_type": "code",
   "execution_count": 32,
   "id": "8d64d80b",
   "metadata": {},
   "outputs": [],
   "source": [
    "import numpy as np\n",
    "import pandas as pd\n",
    "from matplotlib import pyplot as plt\n",
    "from sklearn.model_selection import train_test_split\n",
    "from sklearn.feature_extraction.text import CountVectorizer\n",
    "from sklearn.naive_bayes import MultinomialNB\n",
    "from sklearn.metrics import accuracy_score"
   ]
  },
  {
   "cell_type": "markdown",
   "id": "33ed3d2c",
   "metadata": {},
   "source": [
    "### Loading and Exploring data"
   ]
  },
  {
   "cell_type": "code",
   "execution_count": 3,
   "id": "1cb03c34",
   "metadata": {},
   "outputs": [],
   "source": [
    "new_york_tweets = pd.read_json('new_york.json', lines = True)\n",
    "london_tweets = pd.read_json('london.json', lines = True)\n",
    "paris_tweets = pd.read_json('paris.json', lines = True)"
   ]
  },
  {
   "cell_type": "markdown",
   "id": "1c26616c",
   "metadata": {},
   "source": [
    "### 1-  Exploring new_york_tweets"
   ]
  },
  {
   "cell_type": "code",
   "execution_count": 4,
   "id": "d75585ad",
   "metadata": {},
   "outputs": [
    {
     "data": {
      "text/html": [
       "<div>\n",
       "<style scoped>\n",
       "    .dataframe tbody tr th:only-of-type {\n",
       "        vertical-align: middle;\n",
       "    }\n",
       "\n",
       "    .dataframe tbody tr th {\n",
       "        vertical-align: top;\n",
       "    }\n",
       "\n",
       "    .dataframe thead th {\n",
       "        text-align: right;\n",
       "    }\n",
       "</style>\n",
       "<table border=\"1\" class=\"dataframe\">\n",
       "  <thead>\n",
       "    <tr style=\"text-align: right;\">\n",
       "      <th></th>\n",
       "      <th>created_at</th>\n",
       "      <th>id</th>\n",
       "      <th>id_str</th>\n",
       "      <th>text</th>\n",
       "      <th>display_text_range</th>\n",
       "      <th>source</th>\n",
       "      <th>truncated</th>\n",
       "      <th>in_reply_to_status_id</th>\n",
       "      <th>in_reply_to_status_id_str</th>\n",
       "      <th>in_reply_to_user_id</th>\n",
       "      <th>...</th>\n",
       "      <th>lang</th>\n",
       "      <th>timestamp_ms</th>\n",
       "      <th>extended_tweet</th>\n",
       "      <th>possibly_sensitive</th>\n",
       "      <th>quoted_status_id</th>\n",
       "      <th>quoted_status_id_str</th>\n",
       "      <th>quoted_status</th>\n",
       "      <th>quoted_status_permalink</th>\n",
       "      <th>extended_entities</th>\n",
       "      <th>withheld_in_countries</th>\n",
       "    </tr>\n",
       "  </thead>\n",
       "  <tbody>\n",
       "    <tr>\n",
       "      <th>0</th>\n",
       "      <td>2018-07-26 13:32:33+00:00</td>\n",
       "      <td>1022474755625164800</td>\n",
       "      <td>1022474755625164800</td>\n",
       "      <td>@DelgadoforNY19 Calendar marked.</td>\n",
       "      <td>[16, 32]</td>\n",
       "      <td>&lt;a href=\"http://twitter.com/download/android\" ...</td>\n",
       "      <td>False</td>\n",
       "      <td>1.022208e+18</td>\n",
       "      <td>1.022208e+18</td>\n",
       "      <td>8.290618e+17</td>\n",
       "      <td>...</td>\n",
       "      <td>en</td>\n",
       "      <td>2018-07-26 13:32:33.060</td>\n",
       "      <td>NaN</td>\n",
       "      <td>NaN</td>\n",
       "      <td>NaN</td>\n",
       "      <td>NaN</td>\n",
       "      <td>NaN</td>\n",
       "      <td>NaN</td>\n",
       "      <td>NaN</td>\n",
       "      <td>NaN</td>\n",
       "    </tr>\n",
       "    <tr>\n",
       "      <th>1</th>\n",
       "      <td>2018-07-26 13:32:34+00:00</td>\n",
       "      <td>1022474762491183104</td>\n",
       "      <td>1022474762491183104</td>\n",
       "      <td>petition to ban more than one spritz of cologne</td>\n",
       "      <td>NaN</td>\n",
       "      <td>&lt;a href=\"http://twitter.com/download/iphone\" r...</td>\n",
       "      <td>False</td>\n",
       "      <td>NaN</td>\n",
       "      <td>NaN</td>\n",
       "      <td>NaN</td>\n",
       "      <td>...</td>\n",
       "      <td>en</td>\n",
       "      <td>2018-07-26 13:32:34.697</td>\n",
       "      <td>NaN</td>\n",
       "      <td>NaN</td>\n",
       "      <td>NaN</td>\n",
       "      <td>NaN</td>\n",
       "      <td>NaN</td>\n",
       "      <td>NaN</td>\n",
       "      <td>NaN</td>\n",
       "      <td>NaN</td>\n",
       "    </tr>\n",
       "    <tr>\n",
       "      <th>2</th>\n",
       "      <td>2018-07-26 13:32:35+00:00</td>\n",
       "      <td>1022474765750226945</td>\n",
       "      <td>1022474765750226944</td>\n",
       "      <td>People really be making up beef with you in th...</td>\n",
       "      <td>NaN</td>\n",
       "      <td>&lt;a href=\"http://twitter.com/download/iphone\" r...</td>\n",
       "      <td>False</td>\n",
       "      <td>NaN</td>\n",
       "      <td>NaN</td>\n",
       "      <td>NaN</td>\n",
       "      <td>...</td>\n",
       "      <td>en</td>\n",
       "      <td>2018-07-26 13:32:35.474</td>\n",
       "      <td>NaN</td>\n",
       "      <td>NaN</td>\n",
       "      <td>NaN</td>\n",
       "      <td>NaN</td>\n",
       "      <td>NaN</td>\n",
       "      <td>NaN</td>\n",
       "      <td>NaN</td>\n",
       "      <td>NaN</td>\n",
       "    </tr>\n",
       "    <tr>\n",
       "      <th>3</th>\n",
       "      <td>2018-07-26 13:32:36+00:00</td>\n",
       "      <td>1022474768736546816</td>\n",
       "      <td>1022474768736546816</td>\n",
       "      <td>30 years old.. wow what a journey... I moved t...</td>\n",
       "      <td>NaN</td>\n",
       "      <td>&lt;a href=\"http://instagram.com\" rel=\"nofollow\"&gt;...</td>\n",
       "      <td>True</td>\n",
       "      <td>NaN</td>\n",
       "      <td>NaN</td>\n",
       "      <td>NaN</td>\n",
       "      <td>...</td>\n",
       "      <td>en</td>\n",
       "      <td>2018-07-26 13:32:36.186</td>\n",
       "      <td>{'full_text': '30 years old.. wow what a journ...</td>\n",
       "      <td>0.0</td>\n",
       "      <td>NaN</td>\n",
       "      <td>NaN</td>\n",
       "      <td>NaN</td>\n",
       "      <td>NaN</td>\n",
       "      <td>NaN</td>\n",
       "      <td>NaN</td>\n",
       "    </tr>\n",
       "    <tr>\n",
       "      <th>4</th>\n",
       "      <td>2018-07-26 13:32:36+00:00</td>\n",
       "      <td>1022474769260838913</td>\n",
       "      <td>1022474769260838912</td>\n",
       "      <td>At first glance it looked like asparagus with ...</td>\n",
       "      <td>NaN</td>\n",
       "      <td>&lt;a href=\"http://twitter.com/download/iphone\" r...</td>\n",
       "      <td>True</td>\n",
       "      <td>NaN</td>\n",
       "      <td>NaN</td>\n",
       "      <td>NaN</td>\n",
       "      <td>...</td>\n",
       "      <td>en</td>\n",
       "      <td>2018-07-26 13:32:36.311</td>\n",
       "      <td>{'full_text': 'At first glance it looked like ...</td>\n",
       "      <td>NaN</td>\n",
       "      <td>NaN</td>\n",
       "      <td>NaN</td>\n",
       "      <td>NaN</td>\n",
       "      <td>NaN</td>\n",
       "      <td>NaN</td>\n",
       "      <td>NaN</td>\n",
       "    </tr>\n",
       "  </tbody>\n",
       "</table>\n",
       "<p>5 rows × 36 columns</p>\n",
       "</div>"
      ],
      "text/plain": [
       "                 created_at                   id               id_str  \\\n",
       "0 2018-07-26 13:32:33+00:00  1022474755625164800  1022474755625164800   \n",
       "1 2018-07-26 13:32:34+00:00  1022474762491183104  1022474762491183104   \n",
       "2 2018-07-26 13:32:35+00:00  1022474765750226945  1022474765750226944   \n",
       "3 2018-07-26 13:32:36+00:00  1022474768736546816  1022474768736546816   \n",
       "4 2018-07-26 13:32:36+00:00  1022474769260838913  1022474769260838912   \n",
       "\n",
       "                                                text display_text_range  \\\n",
       "0                   @DelgadoforNY19 Calendar marked.           [16, 32]   \n",
       "1    petition to ban more than one spritz of cologne                NaN   \n",
       "2  People really be making up beef with you in th...                NaN   \n",
       "3  30 years old.. wow what a journey... I moved t...                NaN   \n",
       "4  At first glance it looked like asparagus with ...                NaN   \n",
       "\n",
       "                                              source  truncated  \\\n",
       "0  <a href=\"http://twitter.com/download/android\" ...      False   \n",
       "1  <a href=\"http://twitter.com/download/iphone\" r...      False   \n",
       "2  <a href=\"http://twitter.com/download/iphone\" r...      False   \n",
       "3  <a href=\"http://instagram.com\" rel=\"nofollow\">...       True   \n",
       "4  <a href=\"http://twitter.com/download/iphone\" r...       True   \n",
       "\n",
       "   in_reply_to_status_id  in_reply_to_status_id_str  in_reply_to_user_id  ...  \\\n",
       "0           1.022208e+18               1.022208e+18         8.290618e+17  ...   \n",
       "1                    NaN                        NaN                  NaN  ...   \n",
       "2                    NaN                        NaN                  NaN  ...   \n",
       "3                    NaN                        NaN                  NaN  ...   \n",
       "4                    NaN                        NaN                  NaN  ...   \n",
       "\n",
       "   lang            timestamp_ms  \\\n",
       "0    en 2018-07-26 13:32:33.060   \n",
       "1    en 2018-07-26 13:32:34.697   \n",
       "2    en 2018-07-26 13:32:35.474   \n",
       "3    en 2018-07-26 13:32:36.186   \n",
       "4    en 2018-07-26 13:32:36.311   \n",
       "\n",
       "                                      extended_tweet possibly_sensitive  \\\n",
       "0                                                NaN                NaN   \n",
       "1                                                NaN                NaN   \n",
       "2                                                NaN                NaN   \n",
       "3  {'full_text': '30 years old.. wow what a journ...                0.0   \n",
       "4  {'full_text': 'At first glance it looked like ...                NaN   \n",
       "\n",
       "  quoted_status_id quoted_status_id_str  quoted_status  \\\n",
       "0              NaN                  NaN            NaN   \n",
       "1              NaN                  NaN            NaN   \n",
       "2              NaN                  NaN            NaN   \n",
       "3              NaN                  NaN            NaN   \n",
       "4              NaN                  NaN            NaN   \n",
       "\n",
       "   quoted_status_permalink  extended_entities  withheld_in_countries  \n",
       "0                      NaN                NaN                    NaN  \n",
       "1                      NaN                NaN                    NaN  \n",
       "2                      NaN                NaN                    NaN  \n",
       "3                      NaN                NaN                    NaN  \n",
       "4                      NaN                NaN                    NaN  \n",
       "\n",
       "[5 rows x 36 columns]"
      ]
     },
     "execution_count": 4,
     "metadata": {},
     "output_type": "execute_result"
    }
   ],
   "source": [
    "new_york_tweets.head()                     # Gives info of 1st 5 rows"
   ]
  },
  {
   "cell_type": "code",
   "execution_count": 5,
   "id": "a6c211c4",
   "metadata": {},
   "outputs": [
    {
     "name": "stdout",
     "output_type": "stream",
     "text": [
      "<class 'pandas.core.frame.DataFrame'>\n",
      "RangeIndex: 4723 entries, 0 to 4722\n",
      "Data columns (total 36 columns):\n",
      " #   Column                     Non-Null Count  Dtype              \n",
      "---  ------                     --------------  -----              \n",
      " 0   created_at                 4723 non-null   datetime64[ns, UTC]\n",
      " 1   id                         4723 non-null   int64              \n",
      " 2   id_str                     4723 non-null   int64              \n",
      " 3   text                       4723 non-null   object             \n",
      " 4   display_text_range         2811 non-null   object             \n",
      " 5   source                     4723 non-null   object             \n",
      " 6   truncated                  4723 non-null   bool               \n",
      " 7   in_reply_to_status_id      1668 non-null   float64            \n",
      " 8   in_reply_to_status_id_str  1668 non-null   float64            \n",
      " 9   in_reply_to_user_id        1829 non-null   float64            \n",
      " 10  in_reply_to_user_id_str    1829 non-null   float64            \n",
      " 11  in_reply_to_screen_name    1829 non-null   object             \n",
      " 12  user                       4723 non-null   object             \n",
      " 13  geo                        668 non-null    object             \n",
      " 14  coordinates                668 non-null    object             \n",
      " 15  place                      4723 non-null   object             \n",
      " 16  contributors               0 non-null      float64            \n",
      " 17  is_quote_status            4723 non-null   bool               \n",
      " 18  quote_count                4723 non-null   int64              \n",
      " 19  reply_count                4723 non-null   int64              \n",
      " 20  retweet_count              4723 non-null   int64              \n",
      " 21  favorite_count             4723 non-null   int64              \n",
      " 22  entities                   4723 non-null   object             \n",
      " 23  favorited                  4723 non-null   bool               \n",
      " 24  retweeted                  4723 non-null   bool               \n",
      " 25  filter_level               4723 non-null   object             \n",
      " 26  lang                       4723 non-null   object             \n",
      " 27  timestamp_ms               4723 non-null   datetime64[ns]     \n",
      " 28  extended_tweet             1227 non-null   object             \n",
      " 29  possibly_sensitive         2286 non-null   float64            \n",
      " 30  quoted_status_id           795 non-null    float64            \n",
      " 31  quoted_status_id_str       795 non-null    float64            \n",
      " 32  quoted_status              795 non-null    object             \n",
      " 33  quoted_status_permalink    795 non-null    object             \n",
      " 34  extended_entities          451 non-null    object             \n",
      " 35  withheld_in_countries      1 non-null      object             \n",
      "dtypes: bool(4), datetime64[ns, UTC](1), datetime64[ns](1), float64(8), int64(6), object(16)\n",
      "memory usage: 1.2+ MB\n"
     ]
    }
   ],
   "source": [
    "new_york_tweets.info()                #  Displays a summary of the table"
   ]
  },
  {
   "cell_type": "code",
   "execution_count": 6,
   "id": "d6a6a340",
   "metadata": {},
   "outputs": [
    {
     "data": {
      "text/plain": [
       "4723"
      ]
     },
     "execution_count": 6,
     "metadata": {},
     "output_type": "execute_result"
    }
   ],
   "source": [
    "len(new_york_tweets)                   # This shows the number of tweets in our data"
   ]
  },
  {
   "cell_type": "code",
   "execution_count": 7,
   "id": "0d1e35d2",
   "metadata": {},
   "outputs": [
    {
     "name": "stdout",
     "output_type": "stream",
     "text": [
      "Be best #ThursdayThoughts\n",
      "Sjava indlalifa\n"
     ]
    }
   ],
   "source": [
    "print(new_york_tweets.loc[12][\"text\"])\n",
    "print(new_york_tweets.loc[10]['user']['name'])"
   ]
  },
  {
   "cell_type": "markdown",
   "id": "1b2cd0d0",
   "metadata": {},
   "source": [
    "### 2-  Exploring london_tweets"
   ]
  },
  {
   "cell_type": "code",
   "execution_count": 8,
   "id": "eae195cc",
   "metadata": {},
   "outputs": [
    {
     "data": {
      "text/html": [
       "<div>\n",
       "<style scoped>\n",
       "    .dataframe tbody tr th:only-of-type {\n",
       "        vertical-align: middle;\n",
       "    }\n",
       "\n",
       "    .dataframe tbody tr th {\n",
       "        vertical-align: top;\n",
       "    }\n",
       "\n",
       "    .dataframe thead th {\n",
       "        text-align: right;\n",
       "    }\n",
       "</style>\n",
       "<table border=\"1\" class=\"dataframe\">\n",
       "  <thead>\n",
       "    <tr style=\"text-align: right;\">\n",
       "      <th></th>\n",
       "      <th>created_at</th>\n",
       "      <th>id</th>\n",
       "      <th>id_str</th>\n",
       "      <th>text</th>\n",
       "      <th>display_text_range</th>\n",
       "      <th>source</th>\n",
       "      <th>truncated</th>\n",
       "      <th>in_reply_to_status_id</th>\n",
       "      <th>in_reply_to_status_id_str</th>\n",
       "      <th>in_reply_to_user_id</th>\n",
       "      <th>...</th>\n",
       "      <th>retweeted</th>\n",
       "      <th>filter_level</th>\n",
       "      <th>lang</th>\n",
       "      <th>timestamp_ms</th>\n",
       "      <th>possibly_sensitive</th>\n",
       "      <th>quoted_status_id</th>\n",
       "      <th>quoted_status_id_str</th>\n",
       "      <th>quoted_status</th>\n",
       "      <th>quoted_status_permalink</th>\n",
       "      <th>extended_entities</th>\n",
       "    </tr>\n",
       "  </thead>\n",
       "  <tbody>\n",
       "    <tr>\n",
       "      <th>0</th>\n",
       "      <td>2018-07-26 13:39:30+00:00</td>\n",
       "      <td>1022476504855400449</td>\n",
       "      <td>1022476504855400448</td>\n",
       "      <td>@bbclaurak i agree Laura but the Party you see...</td>\n",
       "      <td>[11, 140]</td>\n",
       "      <td>&lt;a href=\"http://twitter.com/download/iphone\" r...</td>\n",
       "      <td>True</td>\n",
       "      <td>1.022447e+18</td>\n",
       "      <td>1.022447e+18</td>\n",
       "      <td>6.118357e+07</td>\n",
       "      <td>...</td>\n",
       "      <td>False</td>\n",
       "      <td>low</td>\n",
       "      <td>en</td>\n",
       "      <td>2018-07-26 13:39:30.109</td>\n",
       "      <td>NaN</td>\n",
       "      <td>NaN</td>\n",
       "      <td>NaN</td>\n",
       "      <td>NaN</td>\n",
       "      <td>NaN</td>\n",
       "      <td>NaN</td>\n",
       "    </tr>\n",
       "    <tr>\n",
       "      <th>1</th>\n",
       "      <td>2018-07-26 13:39:30+00:00</td>\n",
       "      <td>1022476506075942912</td>\n",
       "      <td>1022476506075942912</td>\n",
       "      <td>@masturbacaolove Why?</td>\n",
       "      <td>[17, 21]</td>\n",
       "      <td>&lt;a href=\"http://twitter.com/download/iphone\" r...</td>\n",
       "      <td>False</td>\n",
       "      <td>1.021997e+18</td>\n",
       "      <td>1.021997e+18</td>\n",
       "      <td>9.003777e+17</td>\n",
       "      <td>...</td>\n",
       "      <td>False</td>\n",
       "      <td>low</td>\n",
       "      <td>und</td>\n",
       "      <td>2018-07-26 13:39:30.400</td>\n",
       "      <td>NaN</td>\n",
       "      <td>NaN</td>\n",
       "      <td>NaN</td>\n",
       "      <td>NaN</td>\n",
       "      <td>NaN</td>\n",
       "      <td>NaN</td>\n",
       "    </tr>\n",
       "    <tr>\n",
       "      <th>2</th>\n",
       "      <td>2018-07-26 13:39:31+00:00</td>\n",
       "      <td>1022476510089949190</td>\n",
       "      <td>1022476510089949184</td>\n",
       "      <td>@JackRobinson80 @pgroresearch Yeah not great b...</td>\n",
       "      <td>[30, 65]</td>\n",
       "      <td>&lt;a href=\"http://twitter.com/download/iphone\" r...</td>\n",
       "      <td>False</td>\n",
       "      <td>1.022444e+18</td>\n",
       "      <td>1.022444e+18</td>\n",
       "      <td>7.355633e+08</td>\n",
       "      <td>...</td>\n",
       "      <td>False</td>\n",
       "      <td>low</td>\n",
       "      <td>en</td>\n",
       "      <td>2018-07-26 13:39:31.357</td>\n",
       "      <td>NaN</td>\n",
       "      <td>NaN</td>\n",
       "      <td>NaN</td>\n",
       "      <td>NaN</td>\n",
       "      <td>NaN</td>\n",
       "      <td>NaN</td>\n",
       "    </tr>\n",
       "    <tr>\n",
       "      <th>3</th>\n",
       "      <td>2018-07-26 13:39:33+00:00</td>\n",
       "      <td>1022476519845883905</td>\n",
       "      <td>1022476519845883904</td>\n",
       "      <td>Penalty shit out Arsenal</td>\n",
       "      <td>NaN</td>\n",
       "      <td>&lt;a href=\"http://twitter.com/download/iphone\" r...</td>\n",
       "      <td>False</td>\n",
       "      <td>NaN</td>\n",
       "      <td>NaN</td>\n",
       "      <td>NaN</td>\n",
       "      <td>...</td>\n",
       "      <td>False</td>\n",
       "      <td>low</td>\n",
       "      <td>en</td>\n",
       "      <td>2018-07-26 13:39:33.683</td>\n",
       "      <td>NaN</td>\n",
       "      <td>NaN</td>\n",
       "      <td>NaN</td>\n",
       "      <td>NaN</td>\n",
       "      <td>NaN</td>\n",
       "      <td>NaN</td>\n",
       "    </tr>\n",
       "    <tr>\n",
       "      <th>4</th>\n",
       "      <td>2018-07-26 13:39:36+00:00</td>\n",
       "      <td>1022476532684648448</td>\n",
       "      <td>1022476532684648448</td>\n",
       "      <td>Obviously need some pen practice 🙈</td>\n",
       "      <td>NaN</td>\n",
       "      <td>&lt;a href=\"http://twitter.com/download/iphone\" r...</td>\n",
       "      <td>False</td>\n",
       "      <td>NaN</td>\n",
       "      <td>NaN</td>\n",
       "      <td>NaN</td>\n",
       "      <td>...</td>\n",
       "      <td>False</td>\n",
       "      <td>low</td>\n",
       "      <td>en</td>\n",
       "      <td>2018-07-26 13:39:36.744</td>\n",
       "      <td>NaN</td>\n",
       "      <td>NaN</td>\n",
       "      <td>NaN</td>\n",
       "      <td>NaN</td>\n",
       "      <td>NaN</td>\n",
       "      <td>NaN</td>\n",
       "    </tr>\n",
       "  </tbody>\n",
       "</table>\n",
       "<p>5 rows × 35 columns</p>\n",
       "</div>"
      ],
      "text/plain": [
       "                 created_at                   id               id_str  \\\n",
       "0 2018-07-26 13:39:30+00:00  1022476504855400449  1022476504855400448   \n",
       "1 2018-07-26 13:39:30+00:00  1022476506075942912  1022476506075942912   \n",
       "2 2018-07-26 13:39:31+00:00  1022476510089949190  1022476510089949184   \n",
       "3 2018-07-26 13:39:33+00:00  1022476519845883905  1022476519845883904   \n",
       "4 2018-07-26 13:39:36+00:00  1022476532684648448  1022476532684648448   \n",
       "\n",
       "                                                text display_text_range  \\\n",
       "0  @bbclaurak i agree Laura but the Party you see...          [11, 140]   \n",
       "1                              @masturbacaolove Why?           [17, 21]   \n",
       "2  @JackRobinson80 @pgroresearch Yeah not great b...           [30, 65]   \n",
       "3                           Penalty shit out Arsenal                NaN   \n",
       "4                 Obviously need some pen practice 🙈                NaN   \n",
       "\n",
       "                                              source  truncated  \\\n",
       "0  <a href=\"http://twitter.com/download/iphone\" r...       True   \n",
       "1  <a href=\"http://twitter.com/download/iphone\" r...      False   \n",
       "2  <a href=\"http://twitter.com/download/iphone\" r...      False   \n",
       "3  <a href=\"http://twitter.com/download/iphone\" r...      False   \n",
       "4  <a href=\"http://twitter.com/download/iphone\" r...      False   \n",
       "\n",
       "   in_reply_to_status_id  in_reply_to_status_id_str  in_reply_to_user_id  ...  \\\n",
       "0           1.022447e+18               1.022447e+18         6.118357e+07  ...   \n",
       "1           1.021997e+18               1.021997e+18         9.003777e+17  ...   \n",
       "2           1.022444e+18               1.022444e+18         7.355633e+08  ...   \n",
       "3                    NaN                        NaN                  NaN  ...   \n",
       "4                    NaN                        NaN                  NaN  ...   \n",
       "\n",
       "   retweeted filter_level lang            timestamp_ms possibly_sensitive  \\\n",
       "0      False          low   en 2018-07-26 13:39:30.109                NaN   \n",
       "1      False          low  und 2018-07-26 13:39:30.400                NaN   \n",
       "2      False          low   en 2018-07-26 13:39:31.357                NaN   \n",
       "3      False          low   en 2018-07-26 13:39:33.683                NaN   \n",
       "4      False          low   en 2018-07-26 13:39:36.744                NaN   \n",
       "\n",
       "  quoted_status_id  quoted_status_id_str  quoted_status  \\\n",
       "0              NaN                   NaN            NaN   \n",
       "1              NaN                   NaN            NaN   \n",
       "2              NaN                   NaN            NaN   \n",
       "3              NaN                   NaN            NaN   \n",
       "4              NaN                   NaN            NaN   \n",
       "\n",
       "  quoted_status_permalink  extended_entities  \n",
       "0                     NaN                NaN  \n",
       "1                     NaN                NaN  \n",
       "2                     NaN                NaN  \n",
       "3                     NaN                NaN  \n",
       "4                     NaN                NaN  \n",
       "\n",
       "[5 rows x 35 columns]"
      ]
     },
     "execution_count": 8,
     "metadata": {},
     "output_type": "execute_result"
    }
   ],
   "source": [
    "london_tweets.head()"
   ]
  },
  {
   "cell_type": "code",
   "execution_count": 9,
   "id": "92266315",
   "metadata": {},
   "outputs": [
    {
     "name": "stdout",
     "output_type": "stream",
     "text": [
      "<class 'pandas.core.frame.DataFrame'>\n",
      "RangeIndex: 5341 entries, 0 to 5340\n",
      "Data columns (total 35 columns):\n",
      " #   Column                     Non-Null Count  Dtype              \n",
      "---  ------                     --------------  -----              \n",
      " 0   created_at                 5341 non-null   datetime64[ns, UTC]\n",
      " 1   id                         5341 non-null   int64              \n",
      " 2   id_str                     5341 non-null   int64              \n",
      " 3   text                       5341 non-null   object             \n",
      " 4   display_text_range         3535 non-null   object             \n",
      " 5   source                     5341 non-null   object             \n",
      " 6   truncated                  5341 non-null   bool               \n",
      " 7   in_reply_to_status_id      2230 non-null   float64            \n",
      " 8   in_reply_to_status_id_str  2230 non-null   float64            \n",
      " 9   in_reply_to_user_id        2444 non-null   float64            \n",
      " 10  in_reply_to_user_id_str    2444 non-null   float64            \n",
      " 11  in_reply_to_screen_name    2444 non-null   object             \n",
      " 12  user                       5341 non-null   object             \n",
      " 13  geo                        672 non-null    object             \n",
      " 14  coordinates                672 non-null    object             \n",
      " 15  place                      5341 non-null   object             \n",
      " 16  contributors               0 non-null      float64            \n",
      " 17  is_quote_status            5341 non-null   bool               \n",
      " 18  extended_tweet             1520 non-null   object             \n",
      " 19  quote_count                5341 non-null   int64              \n",
      " 20  reply_count                5341 non-null   int64              \n",
      " 21  retweet_count              5341 non-null   int64              \n",
      " 22  favorite_count             5341 non-null   int64              \n",
      " 23  entities                   5341 non-null   object             \n",
      " 24  favorited                  5341 non-null   bool               \n",
      " 25  retweeted                  5341 non-null   bool               \n",
      " 26  filter_level               5341 non-null   object             \n",
      " 27  lang                       5341 non-null   object             \n",
      " 28  timestamp_ms               5341 non-null   datetime64[ns]     \n",
      " 29  possibly_sensitive         2394 non-null   float64            \n",
      " 30  quoted_status_id           682 non-null    float64            \n",
      " 31  quoted_status_id_str       682 non-null    float64            \n",
      " 32  quoted_status              682 non-null    object             \n",
      " 33  quoted_status_permalink    682 non-null    object             \n",
      " 34  extended_entities          580 non-null    object             \n",
      "dtypes: bool(4), datetime64[ns, UTC](1), datetime64[ns](1), float64(8), int64(6), object(15)\n",
      "memory usage: 1.3+ MB\n"
     ]
    }
   ],
   "source": [
    "london_tweets.info()"
   ]
  },
  {
   "cell_type": "code",
   "execution_count": 10,
   "id": "120634ca",
   "metadata": {},
   "outputs": [
    {
     "name": "stdout",
     "output_type": "stream",
     "text": [
      "5341\n"
     ]
    }
   ],
   "source": [
    "print(len(london_tweets))"
   ]
  },
  {
   "cell_type": "markdown",
   "id": "8bbb3811",
   "metadata": {},
   "source": [
    "### 3 -  Exploring paris_tweets"
   ]
  },
  {
   "cell_type": "code",
   "execution_count": 11,
   "id": "eaebb875",
   "metadata": {},
   "outputs": [
    {
     "data": {
      "text/html": [
       "<div>\n",
       "<style scoped>\n",
       "    .dataframe tbody tr th:only-of-type {\n",
       "        vertical-align: middle;\n",
       "    }\n",
       "\n",
       "    .dataframe tbody tr th {\n",
       "        vertical-align: top;\n",
       "    }\n",
       "\n",
       "    .dataframe thead th {\n",
       "        text-align: right;\n",
       "    }\n",
       "</style>\n",
       "<table border=\"1\" class=\"dataframe\">\n",
       "  <thead>\n",
       "    <tr style=\"text-align: right;\">\n",
       "      <th></th>\n",
       "      <th>created_at</th>\n",
       "      <th>id</th>\n",
       "      <th>id_str</th>\n",
       "      <th>text</th>\n",
       "      <th>source</th>\n",
       "      <th>truncated</th>\n",
       "      <th>in_reply_to_status_id</th>\n",
       "      <th>in_reply_to_status_id_str</th>\n",
       "      <th>in_reply_to_user_id</th>\n",
       "      <th>in_reply_to_user_id_str</th>\n",
       "      <th>...</th>\n",
       "      <th>lang</th>\n",
       "      <th>timestamp_ms</th>\n",
       "      <th>display_text_range</th>\n",
       "      <th>extended_entities</th>\n",
       "      <th>possibly_sensitive</th>\n",
       "      <th>quoted_status_id</th>\n",
       "      <th>quoted_status_id_str</th>\n",
       "      <th>quoted_status</th>\n",
       "      <th>quoted_status_permalink</th>\n",
       "      <th>extended_tweet</th>\n",
       "    </tr>\n",
       "  </thead>\n",
       "  <tbody>\n",
       "    <tr>\n",
       "      <th>0</th>\n",
       "      <td>2018-07-27 17:40:45+00:00</td>\n",
       "      <td>1022899608396156928</td>\n",
       "      <td>1022899608396156928</td>\n",
       "      <td>Bulletin météo parisien : des grêlons énormes ...</td>\n",
       "      <td>&lt;a href=\"http://twitter.com/download/android\" ...</td>\n",
       "      <td>False</td>\n",
       "      <td>NaN</td>\n",
       "      <td>NaN</td>\n",
       "      <td>NaN</td>\n",
       "      <td>NaN</td>\n",
       "      <td>...</td>\n",
       "      <td>fr</td>\n",
       "      <td>2018-07-27 17:40:45.854</td>\n",
       "      <td>NaN</td>\n",
       "      <td>NaN</td>\n",
       "      <td>NaN</td>\n",
       "      <td>NaN</td>\n",
       "      <td>NaN</td>\n",
       "      <td>NaN</td>\n",
       "      <td>NaN</td>\n",
       "      <td>NaN</td>\n",
       "    </tr>\n",
       "    <tr>\n",
       "      <th>1</th>\n",
       "      <td>2018-07-27 17:40:47+00:00</td>\n",
       "      <td>1022899613550956544</td>\n",
       "      <td>1022899613550956544</td>\n",
       "      <td>Prêt pour le match #USORCL https://t.co/V5jw0S...</td>\n",
       "      <td>&lt;a href=\"http://twitter.com/download/iphone\" r...</td>\n",
       "      <td>False</td>\n",
       "      <td>NaN</td>\n",
       "      <td>NaN</td>\n",
       "      <td>NaN</td>\n",
       "      <td>NaN</td>\n",
       "      <td>...</td>\n",
       "      <td>fr</td>\n",
       "      <td>2018-07-27 17:40:47.083</td>\n",
       "      <td>[0, 26]</td>\n",
       "      <td>{'media': [{'id': 1022899599336525825, 'id_str...</td>\n",
       "      <td>0.0</td>\n",
       "      <td>NaN</td>\n",
       "      <td>NaN</td>\n",
       "      <td>NaN</td>\n",
       "      <td>NaN</td>\n",
       "      <td>NaN</td>\n",
       "    </tr>\n",
       "    <tr>\n",
       "      <th>2</th>\n",
       "      <td>2018-07-27 17:40:50+00:00</td>\n",
       "      <td>1022899626041651200</td>\n",
       "      <td>1022899626041651200</td>\n",
       "      <td>MAIS QOIDBDNND'SLS'SLSLLSLS''D DBDODNDNODJDBKD...</td>\n",
       "      <td>&lt;a href=\"http://twitter.com/download/android\" ...</td>\n",
       "      <td>False</td>\n",
       "      <td>NaN</td>\n",
       "      <td>NaN</td>\n",
       "      <td>NaN</td>\n",
       "      <td>NaN</td>\n",
       "      <td>...</td>\n",
       "      <td>in</td>\n",
       "      <td>2018-07-27 17:40:50.061</td>\n",
       "      <td>[0, 111]</td>\n",
       "      <td>{'media': [{'id': 1022899571884744706, 'id_str...</td>\n",
       "      <td>0.0</td>\n",
       "      <td>NaN</td>\n",
       "      <td>NaN</td>\n",
       "      <td>NaN</td>\n",
       "      <td>NaN</td>\n",
       "      <td>NaN</td>\n",
       "    </tr>\n",
       "    <tr>\n",
       "      <th>3</th>\n",
       "      <td>2018-07-27 17:40:57+00:00</td>\n",
       "      <td>1022899655347249152</td>\n",
       "      <td>1022899655347249152</td>\n",
       "      <td>@ToursFC Où peut on le championnat de National...</td>\n",
       "      <td>&lt;a href=\"http://twitter.com/download/android\" ...</td>\n",
       "      <td>False</td>\n",
       "      <td>1.022888e+18</td>\n",
       "      <td>1.022888e+18</td>\n",
       "      <td>978599220.0</td>\n",
       "      <td>978599220.0</td>\n",
       "      <td>...</td>\n",
       "      <td>fr</td>\n",
       "      <td>2018-07-27 17:40:57.048</td>\n",
       "      <td>[9, 50]</td>\n",
       "      <td>NaN</td>\n",
       "      <td>NaN</td>\n",
       "      <td>NaN</td>\n",
       "      <td>NaN</td>\n",
       "      <td>NaN</td>\n",
       "      <td>NaN</td>\n",
       "      <td>NaN</td>\n",
       "    </tr>\n",
       "    <tr>\n",
       "      <th>4</th>\n",
       "      <td>2018-07-27 17:40:57+00:00</td>\n",
       "      <td>1022899656685223936</td>\n",
       "      <td>1022899656685223936</td>\n",
       "      <td>Les tismey ils sont bas qu’a tromper leur go e...</td>\n",
       "      <td>&lt;a href=\"http://twitter.com/download/iphone\" r...</td>\n",
       "      <td>False</td>\n",
       "      <td>NaN</td>\n",
       "      <td>NaN</td>\n",
       "      <td>NaN</td>\n",
       "      <td>NaN</td>\n",
       "      <td>...</td>\n",
       "      <td>fr</td>\n",
       "      <td>2018-07-27 17:40:57.367</td>\n",
       "      <td>NaN</td>\n",
       "      <td>NaN</td>\n",
       "      <td>NaN</td>\n",
       "      <td>NaN</td>\n",
       "      <td>NaN</td>\n",
       "      <td>NaN</td>\n",
       "      <td>NaN</td>\n",
       "      <td>NaN</td>\n",
       "    </tr>\n",
       "  </tbody>\n",
       "</table>\n",
       "<p>5 rows × 35 columns</p>\n",
       "</div>"
      ],
      "text/plain": [
       "                 created_at                   id               id_str  \\\n",
       "0 2018-07-27 17:40:45+00:00  1022899608396156928  1022899608396156928   \n",
       "1 2018-07-27 17:40:47+00:00  1022899613550956544  1022899613550956544   \n",
       "2 2018-07-27 17:40:50+00:00  1022899626041651200  1022899626041651200   \n",
       "3 2018-07-27 17:40:57+00:00  1022899655347249152  1022899655347249152   \n",
       "4 2018-07-27 17:40:57+00:00  1022899656685223936  1022899656685223936   \n",
       "\n",
       "                                                text  \\\n",
       "0  Bulletin météo parisien : des grêlons énormes ...   \n",
       "1  Prêt pour le match #USORCL https://t.co/V5jw0S...   \n",
       "2  MAIS QOIDBDNND'SLS'SLSLLSLS''D DBDODNDNODJDBKD...   \n",
       "3  @ToursFC Où peut on le championnat de National...   \n",
       "4  Les tismey ils sont bas qu’a tromper leur go e...   \n",
       "\n",
       "                                              source  truncated  \\\n",
       "0  <a href=\"http://twitter.com/download/android\" ...      False   \n",
       "1  <a href=\"http://twitter.com/download/iphone\" r...      False   \n",
       "2  <a href=\"http://twitter.com/download/android\" ...      False   \n",
       "3  <a href=\"http://twitter.com/download/android\" ...      False   \n",
       "4  <a href=\"http://twitter.com/download/iphone\" r...      False   \n",
       "\n",
       "   in_reply_to_status_id  in_reply_to_status_id_str  in_reply_to_user_id  \\\n",
       "0                    NaN                        NaN                  NaN   \n",
       "1                    NaN                        NaN                  NaN   \n",
       "2                    NaN                        NaN                  NaN   \n",
       "3           1.022888e+18               1.022888e+18          978599220.0   \n",
       "4                    NaN                        NaN                  NaN   \n",
       "\n",
       "   in_reply_to_user_id_str  ... lang            timestamp_ms  \\\n",
       "0                      NaN  ...   fr 2018-07-27 17:40:45.854   \n",
       "1                      NaN  ...   fr 2018-07-27 17:40:47.083   \n",
       "2                      NaN  ...   in 2018-07-27 17:40:50.061   \n",
       "3              978599220.0  ...   fr 2018-07-27 17:40:57.048   \n",
       "4                      NaN  ...   fr 2018-07-27 17:40:57.367   \n",
       "\n",
       "  display_text_range                                  extended_entities  \\\n",
       "0                NaN                                                NaN   \n",
       "1            [0, 26]  {'media': [{'id': 1022899599336525825, 'id_str...   \n",
       "2           [0, 111]  {'media': [{'id': 1022899571884744706, 'id_str...   \n",
       "3            [9, 50]                                                NaN   \n",
       "4                NaN                                                NaN   \n",
       "\n",
       "  possibly_sensitive  quoted_status_id  quoted_status_id_str  quoted_status  \\\n",
       "0                NaN               NaN                   NaN            NaN   \n",
       "1                0.0               NaN                   NaN            NaN   \n",
       "2                0.0               NaN                   NaN            NaN   \n",
       "3                NaN               NaN                   NaN            NaN   \n",
       "4                NaN               NaN                   NaN            NaN   \n",
       "\n",
       "   quoted_status_permalink  extended_tweet  \n",
       "0                      NaN             NaN  \n",
       "1                      NaN             NaN  \n",
       "2                      NaN             NaN  \n",
       "3                      NaN             NaN  \n",
       "4                      NaN             NaN  \n",
       "\n",
       "[5 rows x 35 columns]"
      ]
     },
     "execution_count": 11,
     "metadata": {},
     "output_type": "execute_result"
    }
   ],
   "source": [
    "paris_tweets.head()"
   ]
  },
  {
   "cell_type": "code",
   "execution_count": 12,
   "id": "1b5205ef",
   "metadata": {},
   "outputs": [
    {
     "data": {
      "text/plain": [
       "2510"
      ]
     },
     "execution_count": 12,
     "metadata": {},
     "output_type": "execute_result"
    }
   ],
   "source": [
    "len(paris_tweets)"
   ]
  },
  {
   "cell_type": "markdown",
   "id": "bc93ec1d",
   "metadata": {},
   "source": [
    "So, New York, London and Paris has 4723, 5341, 2510 tweets respectively."
   ]
  },
  {
   "cell_type": "markdown",
   "id": "5d7fa3b5",
   "metadata": {},
   "source": [
    "## Classifying using language: Naive Bayes Classifier"
   ]
  },
  {
   "cell_type": "markdown",
   "id": "d769400b",
   "metadata": {},
   "source": [
    "Let's begin by looking at the way language is used differently in these three locations. Let's grab the text of all of the tweets and make it one big list. "
   ]
  },
  {
   "cell_type": "code",
   "execution_count": 20,
   "id": "b33ec22e",
   "metadata": {},
   "outputs": [],
   "source": [
    "new_york_text = new_york_tweets[\"text\"].tolist()\n",
    "london_text = london_tweets[\"text\"].tolist()                # Taking out the 'text' feature from each DF\n",
    "paris_text = paris_tweets[\"text\"].tolist()\n",
    "\n",
    "all_tweets = new_york_text + london_text + paris_text             # Combined text data"
   ]
  },
  {
   "cell_type": "markdown",
   "id": "70346158",
   "metadata": {},
   "source": [
    "I am now going to make *labels* associated with these tweets, <br />\n",
    "0 -  represents a New York tweet <br />\n",
    "1 -  represents a London tweet <br />\n",
    "2 -  represents a Paris tweet"
   ]
  },
  {
   "cell_type": "code",
   "execution_count": 21,
   "id": "39d97f6f",
   "metadata": {},
   "outputs": [],
   "source": [
    "labels = [0] * len(new_york_text) + [1] * len(london_text) + [2] * len(paris_text)"
   ]
  },
  {
   "cell_type": "markdown",
   "id": "747d5655",
   "metadata": {},
   "source": [
    "### Let's plot these on graph for better understandings"
   ]
  },
  {
   "cell_type": "code",
   "execution_count": 15,
   "id": "8755e04a",
   "metadata": {},
   "outputs": [
    {
     "data": {
      "text/plain": [
       "<BarContainer object of 3 artists>"
      ]
     },
     "execution_count": 15,
     "metadata": {},
     "output_type": "execute_result"
    },
    {
     "data": {
      "image/png": "[encoded data removed]",
      "text/plain": [
       "<Figure size 720x288 with 1 Axes>"
      ]
     },
     "metadata": {
      "needs_background": "light"
     },
     "output_type": "display_data"
    }
   ],
   "source": [
    "sizes = [\n",
    "    len(new_york_tweets),\n",
    "    len(london_tweets),\n",
    "    len(paris_tweets),\n",
    "]\n",
    "plt.figure(figsize = (10,4))\n",
    "plt.ylabel(\"Number of tweets\")\n",
    "labels = [\"NY\", \"London\", \"Paris\"]\n",
    "plt.bar(range(len(sizes)), sizes, tick_label=labels)"
   ]
  },
  {
   "cell_type": "code",
   "execution_count": 16,
   "id": "7c410f03",
   "metadata": {},
   "outputs": [
    {
     "data": {
      "image/png": "[encoded data removed]",
      "text/plain": [
       "<Figure size 432x288 with 1 Axes>"
      ]
     },
     "metadata": {},
     "output_type": "display_data"
    }
   ],
   "source": [
    "sizes = [len(new_york_tweets), len(london_tweets), len(paris_tweets),]\n",
    "labelz = ['NY', 'London', 'Paris']\n",
    "plt.pie(sizes)\n",
    "plt.legend(labelz)\n",
    "plt.show()"
   ]
  },
  {
   "cell_type": "markdown",
   "id": "88db251f",
   "metadata": {},
   "source": [
    "## Making a Training and Test Set"
   ]
  },
  {
   "cell_type": "markdown",
   "id": "32aeb065",
   "metadata": {},
   "source": [
    "I am gonna break the data into training set and test set"
   ]
  },
  {
   "cell_type": "code",
   "execution_count": 22,
   "id": "35232541",
   "metadata": {},
   "outputs": [],
   "source": [
    "train_data, test_data, train_labels, test_labels = train_test_split(all_tweets, labels, test_size = 0.2, random_state = 1)"
   ]
  },
  {
   "cell_type": "markdown",
   "id": "1509038e",
   "metadata": {},
   "source": [
    "Printing to check if it has loaded properly "
   ]
  },
  {
   "cell_type": "code",
   "execution_count": 23,
   "id": "e3edb577",
   "metadata": {},
   "outputs": [
    {
     "name": "stdout",
     "output_type": "stream",
     "text": [
      "10059\n",
      "2515\n"
     ]
    }
   ],
   "source": [
    "print(len(train_data))\n",
    "print(len(test_data))"
   ]
  },
  {
   "cell_type": "markdown",
   "id": "2fc17ab2",
   "metadata": {},
   "source": [
    "## Making the count vector"
   ]
  },
  {
   "cell_type": "markdown",
   "id": "95b863ba",
   "metadata": {},
   "source": [
    "To use a Naive Bayes Classifier, we need to transform our lists of words into count vectors. <br />\n",
    "This changes the sentence `\"I love New York, New York\"` into a list that contains:<br />\n",
    "\n",
    "Two `1s` because the words `\"I\"` and `\"love\"` each appear once.<br />\n",
    "Two `2s` because the words `\"New\"` and `\"York\"` each appear twice.<br />\n",
    "Many `0s` because every other word in the training set didn't appear at all."
   ]
  },
  {
   "cell_type": "code",
   "execution_count": 24,
   "id": "ebc9173c",
   "metadata": {},
   "outputs": [],
   "source": [
    "counter = CountVectorizer()                    # create a CountVectorizer named counter\n",
    "counter.fit(train_data)                        # This teaches the counter our vocabulary.\n",
    "train_counts = counter.transform(train_data)\n",
    "test_counts = counter.transform(test_data)"
   ]
  },
  {
   "cell_type": "markdown",
   "id": "8eaf22bc",
   "metadata": {},
   "source": [
    "Let's see what our tweet looks like as a count vector"
   ]
  },
  {
   "cell_type": "code",
   "execution_count": 27,
   "id": "f9366681",
   "metadata": {},
   "outputs": [
    {
     "name": "stdout",
     "output_type": "stream",
     "text": [
      "@TonyC_BaH @simonjpaine @PaulaW_BaH @wwardrobebl1 I am in Tony. I need the help!\n",
      "  (0, 2340)\t1\n",
      "  (0, 12560)\t1\n",
      "  (0, 13530)\t1\n",
      "  (0, 18711)\t1\n",
      "  (0, 20395)\t1\n",
      "  (0, 24712)\t1\n",
      "  (0, 26698)\t1\n",
      "  (0, 27257)\t1\n",
      "  (0, 27261)\t1\n",
      "  (0, 29799)\t1\n"
     ]
    }
   ],
   "source": [
    "print(train_data[5])\n",
    "print(train_counts[5])"
   ]
  },
  {
   "cell_type": "markdown",
   "id": "d5400fd5",
   "metadata": {},
   "source": [
    "## Train and Test the Naive Bayes Classifier"
   ]
  },
  {
   "cell_type": "markdown",
   "id": "477794aa",
   "metadata": {},
   "source": [
    "We now have the inputs to our classifier. Let's use the CountVectors to train and test the Naive Bayes Classifier!"
   ]
  },
  {
   "cell_type": "code",
   "execution_count": 29,
   "id": "4456969f",
   "metadata": {},
   "outputs": [],
   "source": [
    "classifier = MultinomialNB()\n",
    "classifier.fit(train_counts, train_labels)\n",
    "predictions = classifier.predict(test_counts)"
   ]
  },
  {
   "cell_type": "markdown",
   "id": "a2b65cb6",
   "metadata": {},
   "source": [
    "## Evaluating our Model"
   ]
  },
  {
   "cell_type": "markdown",
   "id": "ad0438c5",
   "metadata": {},
   "source": [
    "Now that the classifier has made its predictions, let's see how well it did.  <br />\n",
    "  <br />\n",
    "The way to do this is by calling the `accuracy_score` function. "
   ]
  },
  {
   "cell_type": "code",
   "execution_count": 33,
   "id": "ffee2ea4",
   "metadata": {},
   "outputs": [
    {
     "name": "stdout",
     "output_type": "stream",
     "text": [
      "0.6779324055666004\n"
     ]
    }
   ],
   "source": [
    "print(accuracy_score(test_labels, predictions))"
   ]
  },
  {
   "cell_type": "markdown",
   "id": "bfb5bfb8",
   "metadata": {},
   "source": [
    "### The model accuracy score of `67%` is acceptable."
   ]
  },
  {
   "cell_type": "markdown",
   "id": "fc145d7c",
   "metadata": {},
   "source": [
    "## Testing with my own tweet"
   ]
  },
  {
   "cell_type": "code",
   "execution_count": 43,
   "id": "150b1f41",
   "metadata": {},
   "outputs": [
    {
     "name": "stdout",
     "output_type": "stream",
     "text": [
      "\n",
      "Enter your tweet:\n",
      "mate howdy\n",
      "You are probably from : London \n"
     ]
    }
   ],
   "source": [
    "tweet = input(f'\\nEnter your tweet:\\n')\n",
    "tweet_counts = counter.transform([tweet])\n",
    "location = classifier.predict(tweet_counts)\n",
    "\n",
    "if location == 0:\n",
    "    print('You are probably from : New York ')\n",
    "elif location == 1:\n",
    "     print('You are probably from : London ' )\n",
    "else:\n",
    "     print('You are probably from : Paris ')"
   ]
  },
  {
   "cell_type": "markdown",
   "id": "812cbeba",
   "metadata": {},
   "source": [
    "I made this a bit more interactive, It is indeed giving us right results! "
   ]
  }
 ],
 "metadata": {
  "kernelspec": {
   "display_name": "Python 3",
   "language": "python",
   "name": "python3"
  },
  "language_info": {
   "codemirror_mode": {
    "name": "ipython",
    "version": 3
   },
   "file_extension": ".py",
   "mimetype": "text/x-python",
   "name": "python",
   "nbconvert_exporter": "python",
   "pygments_lexer": "ipython3",
   "version": "3.8.8"
  }
 },
 "nbformat": 4,
 "nbformat_minor": 5
}
